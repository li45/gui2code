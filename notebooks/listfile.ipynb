{
 "cells": [
  {
   "cell_type": "code",
   "execution_count": 27,
   "id": "initial_id",
   "metadata": {
    "collapsed": true,
    "ExecuteTime": {
     "end_time": "2023-12-18T14:47:54.939523Z",
     "start_time": "2023-12-18T14:47:54.935124Z"
    }
   },
   "outputs": [],
   "source": [
    "import utils.utils_paths  as utils_paths\n",
    "import os\n",
    "import random\n",
    "from sklearn.model_selection import train_test_split\n",
    "import numpy as np\n",
    "from sklearn.preprocessing import LabelBinarizer"
   ]
  },
  {
   "cell_type": "code",
   "execution_count": 20,
   "outputs": [],
   "source": [
    "# 拿到图像数据路径，方便后续读取\n",
    "imagePaths = sorted(list(utils_paths.list_images('../data/ali-ui')))\n",
    "random.seed(42)\n",
    "random.shuffle(imagePaths)\n",
    "\n",
    "labels = []\n",
    "image_size = 224\n",
    "# 遍历读取数据\n",
    "for imagePath in imagePaths:\n",
    "    label = imagePath.split(os.path.sep)[-2]\n",
    "    labels.append(label)\n",
    "labels = np.array(labels)\n",
    "\n",
    "# 数据集切分\n",
    "(trainX, testX, trainY, testY) = train_test_split(imagePaths,labels, test_size=0.25, random_state=42)"
   ],
   "metadata": {
    "collapsed": false,
    "ExecuteTime": {
     "end_time": "2023-12-18T14:34:48.243361Z",
     "start_time": "2023-12-18T14:34:48.199715Z"
    }
   },
   "id": "800f515bb959a61b"
  },
  {
   "cell_type": "code",
   "execution_count": 26,
   "outputs": [],
   "source": [
    "f = open(\"../data/ali-ui_train.txt\",\"w\")\n",
    "for i in range(len(trainX)):\n",
    "    f.write(trainX[i])\n",
    "    f.write(\" \")\n",
    "    f.write(trainY[i])\n",
    "    f.write(\"\\n\")\n",
    "f.close()\n",
    "\n",
    "f = open(\"../data/ali-ui_valid.txt\",\"w\")\n",
    "for i in range(len(testX)):\n",
    "    f.write(testX[i])\n",
    "    f.write(\" \")\n",
    "    f.write(testY[i])\n",
    "    f.write(\"\\n\")\n",
    "f.close()\n",
    "    "
   ],
   "metadata": {
    "collapsed": false,
    "ExecuteTime": {
     "end_time": "2023-12-18T14:41:00.859938Z",
     "start_time": "2023-12-18T14:41:00.848534Z"
    }
   },
   "id": "84271f2fb65118ee"
  },
  {
   "cell_type": "code",
   "execution_count": 33,
   "outputs": [
    {
     "data": {
      "text/plain": "array(['button', 'keyboard', 'navbar', 'searchbar', 'statusbar',\n       'stepper', 'switch', 'tabbar'], dtype='<U9')"
     },
     "execution_count": 33,
     "metadata": {},
     "output_type": "execute_result"
    }
   ],
   "source": [
    "lb = LabelBinarizer()\n",
    "lb.fit_transform(testY)\n",
    "lb.classes_"
   ],
   "metadata": {
    "collapsed": false,
    "ExecuteTime": {
     "end_time": "2023-12-18T14:50:15.454592Z",
     "start_time": "2023-12-18T14:50:15.447609Z"
    }
   },
   "id": "c9c6a6d15fe0d74b"
  },
  {
   "cell_type": "code",
   "execution_count": null,
   "outputs": [],
   "source": [],
   "metadata": {
    "collapsed": false
   },
   "id": "c5b062effc4f52e3"
  }
 ],
 "metadata": {
  "kernelspec": {
   "display_name": "Python 3",
   "language": "python",
   "name": "python3"
  },
  "language_info": {
   "codemirror_mode": {
    "name": "ipython",
    "version": 2
   },
   "file_extension": ".py",
   "mimetype": "text/x-python",
   "name": "python",
   "nbconvert_exporter": "python",
   "pygments_lexer": "ipython2",
   "version": "2.7.6"
  }
 },
 "nbformat": 4,
 "nbformat_minor": 5
}
