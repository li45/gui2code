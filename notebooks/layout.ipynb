{
 "cells": [
  {
   "cell_type": "markdown",
   "source": [
    "解析Sketch文件"
   ],
   "metadata": {
    "collapsed": false
   },
   "id": "6a599feda38e4bc7"
  },
  {
   "cell_type": "code",
   "execution_count": 6,
   "outputs": [
    {
     "name": "stdout",
     "output_type": "stream",
     "text": [
      "0\n"
     ]
    }
   ],
   "source": [
    "import utils.util as u"
   ],
   "metadata": {
    "collapsed": false,
    "ExecuteTime": {
     "end_time": "2023-12-04T14:13:52.669982Z",
     "start_time": "2023-12-04T14:13:50.236597Z"
    }
   },
   "id": "f9b8a3d84f2c696c"
  },
  {
   "cell_type": "code",
   "execution_count": 7,
   "outputs": [],
   "source": [
    "node = u.NodeTree()"
   ],
   "metadata": {
    "collapsed": false,
    "ExecuteTime": {
     "end_time": "2023-12-04T14:13:59.848742Z",
     "start_time": "2023-12-04T14:13:59.834796Z"
    }
   },
   "id": "e5744ca3f4e95aa0"
  },
  {
   "cell_type": "code",
   "execution_count": 10,
   "outputs": [
    {
     "name": "stdout",
     "output_type": "stream",
     "text": [
      "<utils.util.NodeTree object at 0x1043d6f70>\n"
     ]
    }
   ],
   "source": [
    "print(node)"
   ],
   "metadata": {
    "collapsed": false,
    "ExecuteTime": {
     "end_time": "2023-12-04T14:14:14.802082Z",
     "start_time": "2023-12-04T14:14:14.796872Z"
    }
   },
   "id": "90752f3d85181e94"
  },
  {
   "cell_type": "code",
   "execution_count": null,
   "outputs": [],
   "source": [],
   "metadata": {
    "collapsed": false
   },
   "id": "130b4464b4f43b3"
  }
 ],
 "metadata": {
  "kernelspec": {
   "display_name": "Python 3",
   "language": "python",
   "name": "python3"
  },
  "language_info": {
   "codemirror_mode": {
    "name": "ipython",
    "version": 2
   },
   "file_extension": ".py",
   "mimetype": "text/x-python",
   "name": "python",
   "nbconvert_exporter": "python",
   "pygments_lexer": "ipython2",
   "version": "2.7.6"
  }
 },
 "nbformat": 4,
 "nbformat_minor": 5
}
