{
 "cells": [
  {
   "cell_type": "code",
   "execution_count": 25,
   "id": "initial_id",
   "metadata": {
    "collapsed": true,
    "ExecuteTime": {
     "end_time": "2023-12-23T15:23:58.873742Z",
     "start_time": "2023-12-23T15:23:58.866999Z"
    }
   },
   "outputs": [],
   "source": [
    "import numpy as np\n",
    "import os\n",
    "import PIL\n",
    "import PIL.Image\n",
    "import tensorflow as tf\n",
    "import matplotlib as mpl\n",
    "import matplotlib.pyplot as plt\n",
    "\n",
    "\n",
    "from tensorflow import keras\n",
    "from tensorflow.keras import layers\n",
    "from tensorflow.keras.models import Sequential\n",
    "\n",
    "import utils.data_loader as data_loader\n",
    "from models import MyMobileNetV2"
   ]
  },
  {
   "cell_type": "code",
   "execution_count": 2,
   "outputs": [
    {
     "name": "stdout",
     "output_type": "stream",
     "text": [
      "2.11.0\n"
     ]
    }
   ],
   "source": [
    "print(tf.__version__)\n"
   ],
   "metadata": {
    "collapsed": false,
    "ExecuteTime": {
     "end_time": "2023-12-23T14:15:10.736700Z",
     "start_time": "2023-12-23T14:15:10.731447Z"
    }
   },
   "id": "632f9778b4afc9c"
  },
  {
   "cell_type": "code",
   "execution_count": 23,
   "outputs": [
    {
     "name": "stdout",
     "output_type": "stream",
     "text": [
      "Found 5900 files belonging to 8 classes.\n",
      "Using 4720 files for training.\n",
      "Using 1180 files for validation.\n",
      "labels: ['button', 'keyboard', 'navbar', 'searchbar', 'statusbar', 'stepper', 'switch', 'tabbar']\n"
     ]
    }
   ],
   "source": [
    "data_dir = \"../data/ali-ui\"\n",
    "train_ds,val_ds,lb =  data_loader.load_data(data_dir)\n",
    "print(\"labels:\",lb)"
   ],
   "metadata": {
    "collapsed": false,
    "ExecuteTime": {
     "end_time": "2023-12-23T15:17:01.790692Z",
     "start_time": "2023-12-23T15:17:01.566179Z"
    }
   },
   "id": "210601f8d999d7f9"
  },
  {
   "cell_type": "code",
   "execution_count": 4,
   "outputs": [],
   "source": [
    "def plot_metrics(history):\n",
    "  metrics = ['loss', 'prc', 'precision', 'recall']\n",
    "  for n, metric in enumerate(metrics):\n",
    "    name = metric.replace(\"_\",\" \").capitalize()\n",
    "    plt.subplot(2,2,n+1)\n",
    "    plt.plot(history.epoch, history.history[metric], color=colors[0], label='Train')\n",
    "    plt.plot(history.epoch, history.history['val_'+metric],\n",
    "             color=colors[0], linestyle=\"--\", label='Val')\n",
    "    plt.xlabel('Epoch')\n",
    "    plt.ylabel(name)\n",
    "    if metric == 'loss':\n",
    "      plt.ylim([0, plt.ylim()[1]])\n",
    "    elif metric == 'auc':\n",
    "      plt.ylim([0.8,1])\n",
    "    else:\n",
    "      plt.ylim([0,1])\n",
    "\n",
    "    plt.legend()"
   ],
   "metadata": {
    "collapsed": false,
    "ExecuteTime": {
     "end_time": "2023-12-23T14:15:15.377998Z",
     "start_time": "2023-12-23T14:15:15.374010Z"
    }
   },
   "id": "e96bcfbf2d313823"
  },
  {
   "cell_type": "code",
   "execution_count": 24,
   "outputs": [
    {
     "name": "stdout",
     "output_type": "stream",
     "text": [
      "(32, 224, 224, 3)\n",
      "(32,)\n"
     ]
    }
   ],
   "source": [
    "for image_batch, labels_batch in train_ds:\n",
    "  print(image_batch.shape)\n",
    "  print(labels_batch.shape)\n",
    "  break"
   ],
   "metadata": {
    "collapsed": false,
    "ExecuteTime": {
     "end_time": "2023-12-23T15:17:31.639766Z",
     "start_time": "2023-12-23T15:17:31.438456Z"
    }
   },
   "id": "7d79ff2bac6ec8e4"
  },
  {
   "cell_type": "code",
   "execution_count": 20,
   "outputs": [
    {
     "name": "stdout",
     "output_type": "stream",
     "text": [
      "WARNING:tensorflow:From /opt/homebrew/anaconda3/envs/gui2code/lib/python3.9/site-packages/tensorflow/python/autograph/pyct/static_analysis/liveness.py:83: Analyzer.lamba_check (from tensorflow.python.autograph.pyct.static_analysis.liveness) is deprecated and will be removed after 2023-09-23.\n",
      "Instructions for updating:\n",
      "Lambda fuctions will be no more assumed to be used in the statement where they are used, or at least in the same block. https://github.com/tensorflow/tensorflow/issues/56089\n",
      "0.2901961 0.6\n"
     ]
    }
   ],
   "source": [
    "normalization_layer = tf.keras.layers.Rescaling(1./255)\n",
    "normalized_ds = train_ds.map(lambda x, y: (normalization_layer(x), y))\n",
    "image_batch, labels_batch = next(iter(normalized_ds))\n",
    "first_image = image_batch[0]\n",
    "# Notice the pixel values are now in `[0,1]`.\n",
    "print(np.min(first_image), np.max(first_image))"
   ],
   "metadata": {
    "collapsed": false,
    "ExecuteTime": {
     "end_time": "2023-12-23T13:21:55.598799Z",
     "start_time": "2023-12-23T13:21:55.396747Z"
    }
   },
   "id": "fcb80a4b6fb5da1e"
  },
  {
   "cell_type": "code",
   "execution_count": 6,
   "outputs": [],
   "source": [
    "AUTOTUNE = tf.data.AUTOTUNE\n",
    "train_ds = train_ds.cache().prefetch(buffer_size=AUTOTUNE)\n",
    "val_ds = val_ds.cache().prefetch(buffer_size=AUTOTUNE)"
   ],
   "metadata": {
    "collapsed": false,
    "ExecuteTime": {
     "end_time": "2023-12-23T14:15:33.817991Z",
     "start_time": "2023-12-23T14:15:33.811699Z"
    }
   },
   "id": "377c1645d510e249"
  },
  {
   "cell_type": "code",
   "execution_count": 11,
   "outputs": [],
   "source": [
    "\n",
    "num_classes = len(class_names)\n",
    "\n",
    "model = Sequential([\n",
    "  layers.Rescaling(1./255, input_shape=(img_height, img_width, 3)),\n",
    "  layers.Conv2D(16, 3, padding='same', activation='relu'),\n",
    "  layers.MaxPooling2D(),\n",
    "  layers.Conv2D(32, 3, padding='same', activation='relu'),\n",
    "  layers.MaxPooling2D(),\n",
    "  layers.Conv2D(64, 3, padding='same', activation='relu'),\n",
    "  layers.MaxPooling2D(),\n",
    "  layers.Flatten(),\n",
    "  layers.Dense(128, activation='relu'),\n",
    "  layers.Dense(num_classes)\n",
    "])\n"
   ],
   "metadata": {
    "collapsed": false,
    "ExecuteTime": {
     "end_time": "2023-12-23T14:20:11.807926Z",
     "start_time": "2023-12-23T14:20:11.765536Z"
    }
   },
   "id": "661f874ef8629597"
  },
  {
   "cell_type": "code",
   "execution_count": 28,
   "outputs": [],
   "source": [
    "model.compile(optimizer='adam',\n",
    "              loss=tf.keras.losses.SparseCategoricalCrossentropy(from_logits=True),\n",
    "              metrics=['accuracy'])"
   ],
   "metadata": {
    "collapsed": false,
    "ExecuteTime": {
     "end_time": "2023-12-23T13:35:15.329422Z",
     "start_time": "2023-12-23T13:35:15.312920Z"
    }
   },
   "id": "110ee17bf584f6f7"
  },
  {
   "cell_type": "code",
   "execution_count": 29,
   "outputs": [
    {
     "name": "stdout",
     "output_type": "stream",
     "text": [
      "Epoch 1/10\n",
      "148/148 [==============================] - 37s 246ms/step - loss: 0.6553 - accuracy: 0.7907 - val_loss: 0.2891 - val_accuracy: 0.9203\n",
      "Epoch 2/10\n",
      "148/148 [==============================] - 38s 256ms/step - loss: 0.2079 - accuracy: 0.9400 - val_loss: 0.2825 - val_accuracy: 0.9153\n",
      "Epoch 3/10\n",
      "148/148 [==============================] - 39s 263ms/step - loss: 0.1301 - accuracy: 0.9606 - val_loss: 0.2564 - val_accuracy: 0.9432\n",
      "Epoch 4/10\n",
      "148/148 [==============================] - 43s 291ms/step - loss: 0.0768 - accuracy: 0.9778 - val_loss: 0.3331 - val_accuracy: 0.9280\n",
      "Epoch 5/10\n",
      "148/148 [==============================] - 67s 450ms/step - loss: 0.0625 - accuracy: 0.9816 - val_loss: 0.3097 - val_accuracy: 0.9356\n",
      "Epoch 6/10\n",
      "148/148 [==============================] - 62s 422ms/step - loss: 0.0472 - accuracy: 0.9864 - val_loss: 0.3354 - val_accuracy: 0.9475\n",
      "Epoch 7/10\n",
      "148/148 [==============================] - 61s 412ms/step - loss: 0.0352 - accuracy: 0.9877 - val_loss: 0.3630 - val_accuracy: 0.9398\n",
      "Epoch 8/10\n",
      "148/148 [==============================] - 62s 420ms/step - loss: 0.0289 - accuracy: 0.9911 - val_loss: 0.3553 - val_accuracy: 0.9398\n",
      "Epoch 9/10\n",
      "148/148 [==============================] - 61s 415ms/step - loss: 0.0531 - accuracy: 0.9854 - val_loss: 0.3355 - val_accuracy: 0.9246\n",
      "Epoch 10/10\n",
      "148/148 [==============================] - 64s 436ms/step - loss: 0.0307 - accuracy: 0.9900 - val_loss: 0.3721 - val_accuracy: 0.9347\n"
     ]
    }
   ],
   "source": [
    "epochs=10\n",
    "history = model.fit(\n",
    "  train_ds,\n",
    "  validation_data=val_ds,\n",
    "  epochs=epochs\n",
    ")"
   ],
   "metadata": {
    "collapsed": false,
    "ExecuteTime": {
     "end_time": "2023-12-23T13:44:24.770941Z",
     "start_time": "2023-12-23T13:35:30.222556Z"
    }
   },
   "id": "a24052b82c0a9cf"
  },
  {
   "cell_type": "code",
   "execution_count": 18,
   "outputs": [],
   "source": [
    "mpl.rcParams['figure.figsize'] = (12, 10)\n",
    "colors = plt.rcParams['axes.prop_cycle'].by_key()['color']\n",
    "def plot_metrics(history):\n",
    "  metrics = ['loss',  'accuracy']\n",
    "  for n, metric in enumerate(metrics):\n",
    "    name = metric.replace(\"_\",\" \").capitalize()\n",
    "    plt.subplot(2,2,n+1)\n",
    "    plt.plot(history.epoch, history.history[metric], color=colors[0], label='Train')\n",
    "    plt.plot(history.epoch, history.history['val_'+metric],\n",
    "             color=colors[0], linestyle=\"--\", label='Val')\n",
    "    plt.xlabel('Epoch')\n",
    "    plt.ylabel(name)\n",
    "    if metric == 'loss':\n",
    "      plt.ylim([0, plt.ylim()[1]])\n",
    "    elif metric == 'auc':\n",
    "      plt.ylim([0.8,1])\n",
    "    else:\n",
    "      plt.ylim([0,1])\n",
    "\n",
    "    plt.legend();\n",
    "\n"
   ],
   "metadata": {
    "collapsed": false,
    "ExecuteTime": {
     "end_time": "2023-12-23T14:35:06.150876Z",
     "start_time": "2023-12-23T14:35:06.139763Z"
    }
   },
   "id": "b029e7b11b9e06e4"
  },
  {
   "cell_type": "code",
   "execution_count": 35,
   "outputs": [
    {
     "ename": "KeyError",
     "evalue": "'prc'",
     "output_type": "error",
     "traceback": [
      "\u001B[0;31m---------------------------------------------------------------------------\u001B[0m",
      "\u001B[0;31mKeyError\u001B[0m                                  Traceback (most recent call last)",
      "Cell \u001B[0;32mIn[35], line 1\u001B[0m\n\u001B[0;32m----> 1\u001B[0m \u001B[43mplot_metrics\u001B[49m\u001B[43m(\u001B[49m\u001B[43mhistory\u001B[49m\u001B[43m)\u001B[49m\n",
      "Cell \u001B[0;32mIn[34], line 8\u001B[0m, in \u001B[0;36mplot_metrics\u001B[0;34m(history)\u001B[0m\n\u001B[1;32m      6\u001B[0m name \u001B[38;5;241m=\u001B[39m metric\u001B[38;5;241m.\u001B[39mreplace(\u001B[38;5;124m\"\u001B[39m\u001B[38;5;124m_\u001B[39m\u001B[38;5;124m\"\u001B[39m,\u001B[38;5;124m\"\u001B[39m\u001B[38;5;124m \u001B[39m\u001B[38;5;124m\"\u001B[39m)\u001B[38;5;241m.\u001B[39mcapitalize()\n\u001B[1;32m      7\u001B[0m plt\u001B[38;5;241m.\u001B[39msubplot(\u001B[38;5;241m2\u001B[39m,\u001B[38;5;241m2\u001B[39m,n\u001B[38;5;241m+\u001B[39m\u001B[38;5;241m1\u001B[39m)\n\u001B[0;32m----> 8\u001B[0m plt\u001B[38;5;241m.\u001B[39mplot(history\u001B[38;5;241m.\u001B[39mepoch, \u001B[43mhistory\u001B[49m\u001B[38;5;241;43m.\u001B[39;49m\u001B[43mhistory\u001B[49m\u001B[43m[\u001B[49m\u001B[43mmetric\u001B[49m\u001B[43m]\u001B[49m, color\u001B[38;5;241m=\u001B[39mcolors[\u001B[38;5;241m0\u001B[39m], label\u001B[38;5;241m=\u001B[39m\u001B[38;5;124m'\u001B[39m\u001B[38;5;124mTrain\u001B[39m\u001B[38;5;124m'\u001B[39m)\n\u001B[1;32m      9\u001B[0m plt\u001B[38;5;241m.\u001B[39mplot(history\u001B[38;5;241m.\u001B[39mepoch, history\u001B[38;5;241m.\u001B[39mhistory[\u001B[38;5;124m'\u001B[39m\u001B[38;5;124mval_\u001B[39m\u001B[38;5;124m'\u001B[39m\u001B[38;5;241m+\u001B[39mmetric],\n\u001B[1;32m     10\u001B[0m          color\u001B[38;5;241m=\u001B[39mcolors[\u001B[38;5;241m0\u001B[39m], linestyle\u001B[38;5;241m=\u001B[39m\u001B[38;5;124m\"\u001B[39m\u001B[38;5;124m--\u001B[39m\u001B[38;5;124m\"\u001B[39m, label\u001B[38;5;241m=\u001B[39m\u001B[38;5;124m'\u001B[39m\u001B[38;5;124mVal\u001B[39m\u001B[38;5;124m'\u001B[39m)\n\u001B[1;32m     11\u001B[0m plt\u001B[38;5;241m.\u001B[39mxlabel(\u001B[38;5;124m'\u001B[39m\u001B[38;5;124mEpoch\u001B[39m\u001B[38;5;124m'\u001B[39m)\n",
      "\u001B[0;31mKeyError\u001B[0m: 'prc'"
     ]
    },
    {
     "data": {
      "text/plain": "<Figure size 1200x1000 with 2 Axes>",
      "image/png": "[encoded data removed]"
     },
     "metadata": {},
     "output_type": "display_data"
    }
   ],
   "source": [
    "plot_metrics(history)\n"
   ],
   "metadata": {
    "collapsed": false,
    "ExecuteTime": {
     "end_time": "2023-12-23T13:50:12.570056Z",
     "start_time": "2023-12-23T13:50:12.457736Z"
    }
   },
   "id": "1e99233135141094"
  },
  {
   "cell_type": "code",
   "execution_count": 12,
   "outputs": [
    {
     "name": "stdout",
     "output_type": "stream",
     "text": [
      "WARNING:tensorflow:`input_shape` is undefined or non-square, or `rows` is not in [96, 128, 160, 192, 224]. Weights for input shape (224, 224) will be loaded as the default.\n",
      "Model: \"sequential_1\"\n",
      "_________________________________________________________________\n",
      " Layer (type)                Output Shape              Param #   \n",
      "=================================================================\n",
      " rescaling_2 (Rescaling)     (None, 224, 224, 3)       0         \n",
      "                                                                 \n",
      " mobilenetv2_1.00_224 (Funct  (None, None, None, 1280)  2257984  \n",
      " ional)                                                          \n",
      "                                                                 \n",
      " global_average_pooling2d_1   (None, 1280)             0         \n",
      " (GlobalAveragePooling2D)                                        \n",
      "                                                                 \n",
      " dense_2 (Dense)             (None, 8)                 10248     \n",
      "                                                                 \n",
      "=================================================================\n",
      "Total params: 2,268,232\n",
      "Trainable params: 10,248\n",
      "Non-trainable params: 2,257,984\n",
      "_________________________________________________________________\n"
     ]
    }
   ],
   "source": [
    "base_model=tf.keras.applications.MobileNetV2(include_top=False, weights='imagenet') \n",
    "base_model.trainable=False #冻结原网络的权重，不参与新数据集的训练。\n",
    "model2 = tf.keras.models.Sequential([\n",
    "  #像素值缩放到[-1,1]之间\n",
    "  layers.Rescaling(1./255, input_shape=(img_height, img_width, 3)),\n",
    "\n",
    "  # 之前几层的输出，作为大网的输入，大网的输出给到下一层\n",
    "  base_model, #已经被冻结了，训练时它内部的所有层权重都不更新，只用来对输入图片提取特征。\n",
    "  #对大网的输出（即提取的特征）做一次池化，同时\n",
    "  tf.keras.layers.GlobalAveragePooling2D(), \n",
    "  #接上最终输出层\n",
    "  tf.keras.layers.Dense(num_classes)\n",
    "])\n",
    "model2.summary()"
   ],
   "metadata": {
    "collapsed": false,
    "ExecuteTime": {
     "end_time": "2023-12-23T14:20:17.062102Z",
     "start_time": "2023-12-23T14:20:16.601218Z"
    }
   },
   "id": "d6a85ef4630c6030"
  },
  {
   "cell_type": "code",
   "execution_count": 13,
   "outputs": [],
   "source": [
    "model2.compile(optimizer='adam',\n",
    "              loss=tf.keras.losses.SparseCategoricalCrossentropy(from_logits=True),\n",
    "              metrics=['accuracy'])"
   ],
   "metadata": {
    "collapsed": false,
    "ExecuteTime": {
     "end_time": "2023-12-23T14:21:19.542733Z",
     "start_time": "2023-12-23T14:21:19.523445Z"
    }
   },
   "id": "3199889c3aef0a65"
  },
  {
   "cell_type": "code",
   "execution_count": 14,
   "outputs": [
    {
     "name": "stdout",
     "output_type": "stream",
     "text": [
      "Epoch 1/10\n",
      "148/148 [==============================] - 35s 233ms/step - loss: 0.4805 - accuracy: 0.8542 - val_loss: 0.2295 - val_accuracy: 0.9297\n",
      "Epoch 2/10\n",
      "148/148 [==============================] - 35s 235ms/step - loss: 0.1934 - accuracy: 0.9460 - val_loss: 0.1787 - val_accuracy: 0.9432\n",
      "Epoch 3/10\n",
      "148/148 [==============================] - 35s 237ms/step - loss: 0.1472 - accuracy: 0.9581 - val_loss: 0.1577 - val_accuracy: 0.9483\n",
      "Epoch 4/10\n",
      "148/148 [==============================] - 36s 246ms/step - loss: 0.1209 - accuracy: 0.9663 - val_loss: 0.1458 - val_accuracy: 0.9517\n",
      "Epoch 5/10\n",
      "148/148 [==============================] - 45s 304ms/step - loss: 0.1031 - accuracy: 0.9710 - val_loss: 0.1380 - val_accuracy: 0.9542\n",
      "Epoch 6/10\n",
      "148/148 [==============================] - 64s 432ms/step - loss: 0.0901 - accuracy: 0.9761 - val_loss: 0.1327 - val_accuracy: 0.9576\n",
      "Epoch 7/10\n",
      "148/148 [==============================] - 63s 428ms/step - loss: 0.0798 - accuracy: 0.9794 - val_loss: 0.1289 - val_accuracy: 0.9576\n",
      "Epoch 8/10\n",
      "148/148 [==============================] - 55s 370ms/step - loss: 0.0715 - accuracy: 0.9816 - val_loss: 0.1262 - val_accuracy: 0.9585\n",
      "Epoch 9/10\n",
      "148/148 [==============================] - 61s 410ms/step - loss: 0.0645 - accuracy: 0.9841 - val_loss: 0.1242 - val_accuracy: 0.9576\n",
      "Epoch 10/10\n",
      "148/148 [==============================] - 58s 394ms/step - loss: 0.0585 - accuracy: 0.9862 - val_loss: 0.1228 - val_accuracy: 0.9585\n"
     ]
    }
   ],
   "source": [
    "epochs=10\n",
    "history2 = model2.fit(\n",
    "  train_ds,\n",
    "  validation_data=val_ds,\n",
    "  epochs=epochs\n",
    ")"
   ],
   "metadata": {
    "collapsed": false,
    "ExecuteTime": {
     "end_time": "2023-12-23T14:29:43.065104Z",
     "start_time": "2023-12-23T14:21:36.141937Z"
    }
   },
   "id": "7e56c3a9d6de7f0d"
  },
  {
   "cell_type": "code",
   "execution_count": 29,
   "outputs": [
    {
     "data": {
      "text/plain": "<Figure size 1200x1000 with 2 Axes>",
      "image/png": "[encoded data removed]"
     },
     "metadata": {},
     "output_type": "display_data"
    }
   ],
   "source": [
    "import importlib\n",
    "importlib.reload(data_loader)\n",
    "data_loader.plot_metrics(history2)"
   ],
   "metadata": {
    "collapsed": false,
    "ExecuteTime": {
     "end_time": "2023-12-23T15:25:54.985178Z",
     "start_time": "2023-12-23T15:25:54.868740Z"
    }
   },
   "id": "2fdf0365efee6f28"
  },
  {
   "cell_type": "code",
   "execution_count": null,
   "outputs": [],
   "source": [],
   "metadata": {
    "collapsed": false
   },
   "id": "626d08c1edba0286"
  }
 ],
 "metadata": {
  "kernelspec": {
   "display_name": "Python 3",
   "language": "python",
   "name": "python3"
  },
  "language_info": {
   "codemirror_mode": {
    "name": "ipython",
    "version": 2
   },
   "file_extension": ".py",
   "mimetype": "text/x-python",
   "name": "python",
   "nbconvert_exporter": "python",
   "pygments_lexer": "ipython2",
   "version": "2.7.6"
  }
 },
 "nbformat": 4,
 "nbformat_minor": 5
}
